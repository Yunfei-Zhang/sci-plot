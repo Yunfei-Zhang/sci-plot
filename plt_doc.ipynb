{
 "cells": [
  {
   "cell_type": "markdown",
   "metadata": {},
   "source": [
    "# Documentation"
   ]
  },
  {
   "cell_type": "markdown",
   "metadata": {},
   "source": [
    "## Line type\n",
    "- solid: '-'\n",
    "- dotted: ':'\n",
    "- dashed: '--'\n",
    "- dashdot: \t'-.'"
   ]
  },
  {
   "cell_type": "markdown",
   "metadata": {},
   "source": [
    "## Colors\n",
    "### Tableau Palette\n",
    "- tab: blue\n",
    "- tab: orange\n",
    "- tab: green\n",
    "- tab: red\n",
    "- tab: brown\n",
    "- tab: gray\n",
    "- tab: olive\n",
    "\n",
    "### CSS colors\n",
    "- slateblue\n",
    "- orange\n",
    "- darkgreen\n",
    "- tomato\n",
    "- darkgray\n",
    "- royalblue"
   ]
  }
 ],
 "metadata": {
  "interpreter": {
   "hash": "dc7ad82e0e36861d3bbcbcaa5cbf3ac52dac09935abe537dfd80d718ddcf5a1a"
  },
  "kernelspec": {
   "display_name": "Python 3.7.10 ('fleet_sim')",
   "language": "python",
   "name": "python3"
  },
  "language_info": {
   "codemirror_mode": {
    "name": "ipython",
    "version": 3
   },
   "file_extension": ".py",
   "mimetype": "text/x-python",
   "name": "python",
   "nbconvert_exporter": "python",
   "pygments_lexer": "ipython3",
   "version": "3.7.10"
  },
  "orig_nbformat": 4
 },
 "nbformat": 4,
 "nbformat_minor": 2
}
